{
 "cells": [
  {
   "cell_type": "markdown",
   "id": "d1438eb9",
   "metadata": {},
   "source": [
    "<center><h1>Learning Report</h1></center>\n",
    "<center><h2>What I learned</h2></center>\n",
    "<h2> Basic Data Analysis </h2>\n",
    "<p style=\"font-size:20px;line-height: 1.6;\">\n",
    "    Using basic DataScience libraries such as <b>pandas , numpy , matplotlib , seaborn , missingno</b> for Data-Management , Data-Visualization and Missing-Data-Analysis. <br>\n",
    "    The visualization used are <i style=\"color:red\">Scatter-Plot , Bar-Chart , Reg-Plot</i>.\n",
    "    The Variables of Interest:\n",
    "</p>\n",
    "<ol style=\"font-size:20px;line-height: 1.6;\">\n",
    "    <li>PPP : GDP Per Capita</li>\n",
    "    <li>PMPW : Percapita Mismanaged Plastic Waste(kg/person/day)</li>\n",
    "    <li>PPW : Per capita Plastic waste (kg/person/day)</li>\n",
    "</ol>\n",
    "<p style=\"font-size:20px;line-height: 1.6;\">\n",
    "    Derived New Columns from Existing Columns <i style=\"color:green\">(Feature Extraction / Feature Engineering)</i><br><br>\n",
    "</p>\n",
    "<p style=\"font-size:20px;line-height: 1.6;color:gray;\">\n",
    "    Minimum Viable Report<br>\n",
    "    Minimum Viable DataScience Product<br>\n",
    "</p>"
   ]
  },
  {
   "cell_type": "code",
   "execution_count": null,
   "id": "c045f6a9",
   "metadata": {},
   "outputs": [],
   "source": []
  }
 ],
 "metadata": {
  "kernelspec": {
   "display_name": "Python 3 (ipykernel)",
   "language": "python",
   "name": "python3"
  },
  "language_info": {
   "codemirror_mode": {
    "name": "ipython",
    "version": 3
   },
   "file_extension": ".py",
   "mimetype": "text/x-python",
   "name": "python",
   "nbconvert_exporter": "python",
   "pygments_lexer": "ipython3",
   "version": "3.10.4"
  }
 },
 "nbformat": 4,
 "nbformat_minor": 5
}
